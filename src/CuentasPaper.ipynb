{
 "cells": [
  {
   "cell_type": "code",
   "execution_count": 53,
   "metadata": {},
   "outputs": [
    {
     "data": {
      "text/plain": [
       "\"c:\\\\Users\\\\Usuario\\\\CursoJulia\\\\Localizacion faltas\\\\localizadorjulia\\\\src\""
      ]
     },
     "metadata": {},
     "output_type": "display_data"
    }
   ],
   "source": [
    "pwd()"
   ]
  },
  {
   "cell_type": "code",
   "execution_count": 54,
   "metadata": {},
   "outputs": [],
   "source": [
    "using COMTRADE\n",
    "using DataFrames\n",
    "\n",
    "\n",
    "\n",
    "z1 = read_comtrade(\"../Oscilos/02.09.22 22.09.55.000.000\")\n",
    "VSCodeServer.vscodedisplay(z1.cfg.A) #Para ver los DataFrames\n",
    "VSCodeServer.vscodedisplay(z1.cfg.D) #Para ver los DataFrames\n",
    "VSCodeServer.vscodedisplay(z1.dat) #Para ver los DataFrames"
   ]
  },
  {
   "cell_type": "code",
   "execution_count": 55,
   "metadata": {},
   "outputs": [
    {
     "data": {
      "text/plain": [
       "10"
      ]
     },
     "metadata": {},
     "output_type": "display_data"
    }
   ],
   "source": [
    "fs=1200\n",
    "Nh=10\n",
    "N=2Nh+1\n",
    "L=round(Integer,3N/6)"
   ]
  },
  {
   "cell_type": "code",
   "execution_count": 57,
   "metadata": {},
   "outputs": [
    {
     "data": {
      "text/plain": [
       "10×10 Matrix{Float64}:\n",
       " 0.0  0.0  0.0  0.0  0.0  0.0  0.0  0.0  0.0  0.0\n",
       " 0.0  0.0  0.0  0.0  0.0  0.0  0.0  0.0  0.0  0.0\n",
       " 0.0  0.0  0.0  0.0  0.0  0.0  0.0  0.0  0.0  0.0\n",
       " 0.0  0.0  0.0  0.0  0.0  0.0  0.0  0.0  0.0  0.0\n",
       " 0.0  0.0  0.0  0.0  0.0  0.0  0.0  0.0  0.0  0.0\n",
       " 0.0  0.0  0.0  0.0  0.0  0.0  0.0  0.0  0.0  0.0\n",
       " 0.0  0.0  0.0  0.0  0.0  0.0  0.0  0.0  0.0  0.0\n",
       " 0.0  0.0  0.0  0.0  0.0  0.0  0.0  0.0  0.0  0.0\n",
       " 0.0  0.0  0.0  0.0  0.0  0.0  0.0  0.0  0.0  0.0\n",
       " 0.0  0.0  0.0  0.0  0.0  0.0  0.0  0.0  0.0  0.0"
      ]
     },
     "metadata": {},
     "output_type": "display_data"
    }
   ],
   "source": [
    "X= zeros(Float64,2Nh-L,L) # canal 3=Vc\n",
    "\n",
    "X"
   ]
  },
  {
   "cell_type": "code",
   "execution_count": 60,
   "metadata": {},
   "outputs": [
    {
     "data": {
      "text/plain": [
       "SVD{Float64, Float64, Matrix{Float64}}\n",
       "U factor:\n",
       "10×10 Matrix{Float64}:\n",
       " 0.170208  -0.451252    0.287199   …  -0.177639     0.0307145   0.022399\n",
       " 0.258726  -0.447964    0.325897       0.424873    -0.0495339  -0.0653756\n",
       " 0.330823  -0.330506    0.194419      -0.591219    -0.0553376   0.025088\n",
       " 0.381711  -0.109548   -0.0180336      0.534984    -0.0721241  -0.107375\n",
       " 0.406299   0.093435   -0.240841      -0.350914    -0.0561192   0.0998829\n",
       " 0.401518   0.172683   -0.364869   …  -0.0150931   -0.376297   -0.553333\n",
       " 0.363511   0.0727773  -0.283772       0.1689      -0.0183254   0.78521\n",
       " 0.328027   0.106574   -0.0957517      0.00634986   0.869295   -0.21918\n",
       " 0.246722   0.406842    0.429117      -0.0151083   -0.274278    0.0399507\n",
       " 0.148438   0.503727    0.55517        0.00386172   0.111135    0.0268584\n",
       "singular values:\n",
       "10-element Vector{Float64}:\n",
       " 3095.4925090897345\n",
       " 2112.9272491305783\n",
       " 1367.6730229108082\n",
       " 1115.6793371986305\n",
       "  811.3689189263283\n",
       "  772.5264608757374\n",
       "  469.1706685373872\n",
       "  355.6205750961175\n",
       "   41.89625416191382\n",
       "   21.097379900750738\n",
       "Vt factor:\n",
       "10×10 Matrix{Float64}:\n",
       " -0.170208   -0.258726   -0.330823   -0.381711   …  -0.246722   -0.148438\n",
       " -0.451252   -0.447964   -0.330506   -0.109548       0.406842    0.503727\n",
       "  0.287199    0.325897    0.194419   -0.0180336      0.429117    0.55517\n",
       "  0.524283    0.178062   -0.427871   -0.562943       0.0248853   0.0534132\n",
       " -0.0529159   0.109183    0.0328515   0.0140317     -0.709358    0.621648\n",
       " -0.498355    0.311109    0.413161   -0.350104   …  -0.0106526  -0.00560411\n",
       "  0.354804   -0.546369    0.188249    0.315209      -0.0921476   0.116592\n",
       " -0.177639    0.424873   -0.591219    0.534984      -0.0151083   0.00386172\n",
       " -0.0307145   0.0495339   0.0553376   0.0721241      0.274278   -0.111135\n",
       "  0.022399   -0.0653756   0.025088   -0.107375       0.0399507   0.0268584"
      ]
     },
     "metadata": {},
     "output_type": "display_data"
    }
   ],
   "source": [
    "for i=0:L-1\n",
    "    v=z1.dat[(1+i):(L+i),3]\n",
    "    X[:,i+1]=v\n",
    "end\n",
    "X\n",
    "\n",
    "using LinearAlgebra\n",
    "\n",
    "f=svd(X)"
   ]
  },
  {
   "cell_type": "code",
   "execution_count": null,
   "metadata": {},
   "outputs": [],
   "source": [
    "X[1,1]"
   ]
  }
 ],
 "metadata": {
  "kernelspec": {
   "display_name": "Julia 1.7.3",
   "language": "julia",
   "name": "julia-1.7"
  },
  "language_info": {
   "file_extension": ".jl",
   "mimetype": "application/julia",
   "name": "julia",
   "version": "1.7.3"
  },
  "orig_nbformat": 4
 },
 "nbformat": 4,
 "nbformat_minor": 2
}
