{
 "cells": [
  {
   "cell_type": "code",
   "execution_count": 1,
   "metadata": {},
   "outputs": [
    {
     "data": {
      "text/plain": [
       "\"c:\\\\Users\\\\Usuario\\\\CursoJulia\\\\Localizacion faltas\\\\localizadorjulia\\\\src\""
      ]
     },
     "metadata": {},
     "output_type": "display_data"
    }
   ],
   "source": [
    "pwd()"
   ]
  },
  {
   "cell_type": "code",
   "execution_count": 2,
   "metadata": {},
   "outputs": [],
   "source": [
    "using COMTRADE\n",
    "using DataFrames\n",
    "\n",
    "\n",
    "\n",
    "z1 = read_comtrade(\"../Oscilos/02.09.22 22.09.55.000.000\")\n",
    "VSCodeServer.vscodedisplay(z1.cfg.A) #Para ver los DataFrames\n",
    "VSCodeServer.vscodedisplay(z1.cfg.D) #Para ver los DataFrames\n",
    "VSCodeServer.vscodedisplay(z1.dat) #Para ver los DataFrames"
   ]
  },
  {
   "cell_type": "code",
   "execution_count": 5,
   "metadata": {},
   "outputs": [
    {
     "data": {
      "text/plain": [
       "10"
      ]
     },
     "metadata": {},
     "output_type": "display_data"
    }
   ],
   "source": [
    "fs=1200\n",
    "Nh=10\n",
    "N=2Nh+1\n",
    "L=round(Integer,3N/6)"
   ]
  },
  {
   "cell_type": "code",
   "execution_count": 27,
   "metadata": {},
   "outputs": [
    {
     "data": {
      "text/plain": [
       "Any[]"
      ]
     },
     "metadata": {},
     "output_type": "display_data"
    }
   ],
   "source": [
    "X= [] # canal 3=Vc\n",
    "for i=0:L\n",
    "    v=z1.dat[(1+i):(2Nh+L+1+i),3]\n",
    "    vcat(X, v)\n",
    "end\n",
    "X"
   ]
  },
  {
   "cell_type": "code",
   "execution_count": 18,
   "metadata": {},
   "outputs": [
    {
     "data": {
      "text/plain": [
       "2-element Vector{AbstractArray}:\n",
       " AbstractArray[AbstractArray[AbstractArray[AbstractArray[AbstractArray[AbstractArray[AbstractArray[AbstractArray[AbstractArray[Any[], [288.435 263.712 … -788.389 -568.629]], [263.712 315.905 … -568.629 -436.77299999999997]], [315.905 274.7 … -436.77299999999997 -428.532]], [274.7 -21.976 … -428.532 -439.52]], [-21.976 -840.582 … -439.52 -450.508]], [-840.582 -629.063 … -450.508 -368.09799999999996]], [-629.063 -403.80899999999997 … -368.09799999999996 -280.19399999999996]], [-403.80899999999997 -373.592 … -280.19399999999996 -310.411]], [-373.592 -362.604 … -310.411 -381.83299999999997]]\n",
       " [-362.604 -384.58 … -381.83299999999997 -315.905]"
      ]
     },
     "metadata": {},
     "output_type": "display_data"
    }
   ],
   "source": [
    "X[1,1]"
   ]
  },
  {
   "cell_type": "code",
   "execution_count": null,
   "metadata": {},
   "outputs": [],
   "source": []
  }
 ],
 "metadata": {
  "kernelspec": {
   "display_name": "Julia 1.7.3",
   "language": "julia",
   "name": "julia-1.7"
  },
  "language_info": {
   "file_extension": ".jl",
   "mimetype": "application/julia",
   "name": "julia",
   "version": "1.7.3"
  },
  "orig_nbformat": 4
 },
 "nbformat": 4,
 "nbformat_minor": 2
}
